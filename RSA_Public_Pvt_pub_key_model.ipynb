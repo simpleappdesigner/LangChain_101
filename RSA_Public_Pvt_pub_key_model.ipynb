{
 "cells": [
  {
   "cell_type": "code",
   "execution_count": 53,
   "metadata": {},
   "outputs": [
    {
     "name": "stdout",
     "output_type": "stream",
     "text": [
      "Public Key(share with all):PublicKey(8710559449331836352688480383277906697605729099539121020080527260411100988948443161579603143900055391140682867744988573617976178699164383672333810544197367, 65537) \n",
      " , private key(status staus secret: PrivateKey(8710559449331836352688480383277906697605729099539121020080527260411100988948443161579603143900055391140682867744988573617976178699164383672333810544197367, 65537, 2107695679501720568242884506736973685256140074469252195499290496904027333903056016429804950551640347441212143813705100950486617420745265118953322361115937, 6352618835024915386129972160535910436656071834879588059862584566457288148007382063, 1371176151999944912389693589550337397018622609572903285489680301988167609))\n"
     ]
    }
   ],
   "source": [
    "# Source https://stuvel.eu/python-rsa-doc/index.html\n",
    "# Install rsa\n",
    "# pip install rsa\n",
    "\n",
    "#step 1 , create public and private keys , source https://stuvel.eu/python-rsa-doc/usage.html#generating-keys\n",
    "import rsa\n",
    "pubkey, privkey = rsa.newkeys(512) # refer Keysize (bits)\n",
    "print(f\"Public Key(share with all):{pubkey} \\n , private key(status staus secret: {privkey})\")"
   ]
  },
  {
   "cell_type": "code",
   "execution_count": 54,
   "metadata": {},
   "outputs": [],
   "source": [
    "# save keys to files, refer https://stuvel.eu/python-rsa-doc/reference.html#functions\n",
    "# PEM is fileformat - more reading at https://stackoverflow.com/questions/22743415/what-are-the-differences-between-pem-cer-and-der\n",
    "with open(\"public.PEM\",\"wb\") as fh:\n",
    "    fh.write(pubkey.save_pkcs1(\"PEM\"))\n",
    "\n",
    "with open(\"private.PEM\",\"wb\") as fh:\n",
    "    fh.write(privkey.save_pkcs1(\"PEM\"))\n"
   ]
  },
  {
   "cell_type": "markdown",
   "metadata": {},
   "source": [
    "<img src=\"images/public_key_file.png\" width=400 height=100 />"
   ]
  },
  {
   "cell_type": "markdown",
   "metadata": {},
   "source": [
    "<img src=\"images/privaate_key_file.png\" width=400 height=100 />"
   ]
  },
  {
   "cell_type": "code",
   "execution_count": 55,
   "metadata": {},
   "outputs": [
    {
     "name": "stdout",
     "output_type": "stream",
     "text": [
      "read keys\n",
      " PrivateKey(8710559449331836352688480383277906697605729099539121020080527260411100988948443161579603143900055391140682867744988573617976178699164383672333810544197367, 65537, 2107695679501720568242884506736973685256140074469252195499290496904027333903056016429804950551640347441212143813705100950486617420745265118953322361115937, 6352618835024915386129972160535910436656071834879588059862584566457288148007382063, 1371176151999944912389693589550337397018622609572903285489680301988167609) \n",
      " PublicKey(8710559449331836352688480383277906697605729099539121020080527260411100988948443161579603143900055391140682867744988573617976178699164383672333810544197367, 65537)\n",
      "created vs read:True, True \n"
     ]
    }
   ],
   "source": [
    "# load those keys, source - https://stuvel.eu/python-rsa-doc/usage.html\n",
    "private_key,public_key='',''\n",
    "with open('private.PEM', mode='rb') as fh:\n",
    "    private_key=rsa.PrivateKey.load_pkcs1(fh.read()) \n",
    "\n",
    "with open('public.PEM', mode='rb') as fh:\n",
    "    public_key=rsa.PublicKey.load_pkcs1(fh.read()) \n",
    "\n",
    "print(f\"read keys\\n {private_key} \\n {public_key}\") # private keys are for my eyes only\n",
    "\n",
    "print(f\"created vs read:{privkey == private_key}, {pubkey == public_key} \") # they matched, so all good so far"
   ]
  },
  {
   "cell_type": "code",
   "execution_count": 56,
   "metadata": {},
   "outputs": [
    {
     "name": "stdout",
     "output_type": "stream",
     "text": [
      "Coded: b'Cs\\r\\x83\\x03\\x856ZF\\x19\\xafAe\\xc9\\xc9\\xd5\\x82{\\xabj\\xfa\\xfc\\x06\\x82\\x83\\xd2d\\xe6i-/\\xd9\\x9e\\xcb\\n\\xe1\\xf9f\\x86\\x8eLYL\\x0b\\x1f\\x9cj4+\\xad\\xd4\\xaf2\\x96\\x81\\xc5\"\\xa3\\xe4\\x9bE\\xfa\\xbb\\xaa'\n",
      "Decoded:I am API Key\n"
     ]
    }
   ],
   "source": [
    "secure_this_message=\"I am API Key\"\n",
    "coded_message=rsa.encrypt(secure_this_message.encode(\"utf8\"),public_key) # rsa.encrypt need bytes, so string.encode(\"utf8\") convert to bytes\n",
    "print(f\"Coded: {coded_message}\")\n",
    "print(f\"Decoded:{rsa.decrypt(coded_message,private_key).decode('utf8')}\")"
   ]
  },
  {
   "cell_type": "code",
   "execution_count": null,
   "metadata": {},
   "outputs": [],
   "source": [
    "#Let's encrypy the OpenAI key and save to ini file\n",
    "import configparser\n",
    "sec_parser=configparser.ConfigParser()\n",
    "sec_parser.read('secret.ini')\n",
    "openai_api_key=sec_parser['OpenAI']['openai_api_key'] # convert it to secure, had a file, so reading and converting, use case be simple as read and convert\n",
    "\n",
    "config = configparser.ConfigParser()\n",
    "config.read('private_git.ini')\n",
    "config['OpenAI']={}\n",
    "\n",
    "config['OpenAI']['openai_api_key_encoded']=rsa.encrypt(openai_api_key.encode(\"utf8\"),public_key).decode(\"windows-1251\")\n",
    "with open('private_git.ini', 'w') as configfile:\n",
    "    config.write(configfile)\n",
    "\n",
    "'''\n",
    "way to check the encoding!\n",
    "source - my SO post - https://stackoverflow.com/questions/75253022/error-while-parsing-json-file-probally-a-hidden-value-on-the-json-content/75253495#75253495\n",
    "import chardet\n",
    "file_encoding=chardet.detect(en_key)['encoding'] # detect the encoding\n",
    "print(f\"file(bytes) encoding:{file_encoding}\") # print encoding\n",
    "'''"
   ]
  },
  {
   "cell_type": "code",
   "execution_count": 83,
   "metadata": {},
   "outputs": [],
   "source": [
    "# read from the config file\n",
    "config = configparser.ConfigParser()\n",
    "config.read('private_git.ini')\n",
    "openai_api_key_encoded=config['OpenAI']['openai_api_key_encoded'].encode(\"windows-1251\")\n"
   ]
  },
  {
   "cell_type": "code",
   "execution_count": 87,
   "metadata": {},
   "outputs": [
    {
     "data": {
      "text/plain": [
       "'\\n\\nThe most recent FIFA World Cup was held in 2018 and was won by France.'"
      ]
     },
     "execution_count": 87,
     "metadata": {},
     "output_type": "execute_result"
    }
   ],
   "source": [
    "from langchain.llms import OpenAI\n",
    "import os\n",
    "\n",
    "secured_api_key = config['OpenAI']['openai_api_key_encoded'].encode(\"windows-1251\") # set open AI key as environment variable\n",
    "secured_api_key=rsa.decrypt(secured_api_key,private_key).decode('windows-1251')\n",
    "llm_model_openai=OpenAI(openai_api_key=secured_api_key)\n",
    "llm_model_openai(\"Who won the recent soccer world cup?\") # does not know about 2022 , as never seen this data"
   ]
  },
  {
   "cell_type": "markdown",
   "metadata": {},
   "source": [
    "## OpenAI access, env variable using following code: <br>\n",
    "api_key = os.environ.get(\"OPENAI_API_KEY\") refer ln#42     openai-python/openai/__init__.py <br> \n",
    "so instead of OpenAI() , we can initialize the object as OpenAI(openai_api_key=secured_api_key) i.e passing the parameter value. "
   ]
  },
  {
   "cell_type": "markdown",
   "metadata": {},
   "source": []
  }
 ],
 "metadata": {
  "kernelspec": {
   "display_name": "venv",
   "language": "python",
   "name": "python3"
  },
  "language_info": {
   "codemirror_mode": {
    "name": "ipython",
    "version": 3
   },
   "file_extension": ".py",
   "mimetype": "text/x-python",
   "name": "python",
   "nbconvert_exporter": "python",
   "pygments_lexer": "ipython3",
   "version": "3.11.4"
  },
  "orig_nbformat": 4
 },
 "nbformat": 4,
 "nbformat_minor": 2
}
