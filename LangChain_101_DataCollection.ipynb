{
 "cells": [
  {
   "attachments": {},
   "cell_type": "markdown",
   "metadata": {},
   "source": [
    "## LangChain 101 - Data Connection\n",
    "<img src=\"images/LangChain101_DataConnection.png\" width=800 height=500 />"
   ]
  },
  {
   "cell_type": "code",
   "execution_count": 1,
   "metadata": {},
   "outputs": [],
   "source": [
    "from langchain.document_loaders import PyPDFLoader\n",
    "\n",
    "loader = PyPDFLoader(\"./data/lobel-frog-toad.pdf\")\n",
    "pages = loader.load_and_split()"
   ]
  },
  {
   "cell_type": "code",
   "execution_count": 5,
   "metadata": {},
   "outputs": [
    {
     "name": "stdout",
     "output_type": "stream",
     "text": [
      "Content:\n",
      " “Oh, yes there will,” said Frog,\n",
      "“because I have sent you a letter.”\n",
      "“You have?” said Toad.\n",
      "“What did you write in the letter?”\n",
      "Frog said, “I wrote ‘Dear Toad, I am\n",
      "glad that you are my best friend.\n",
      "Your best friend, Frog.’”\n",
      "“Oh,” said Toad, “that makes a very\n",
      "good letter.”\n",
      "Then Frog and Toad went out onto\n",
      "the front porch to wait for the mail.\n",
      "They sat there, feeling happy\n",
      "together. \n",
      " metadata:\n",
      " {'source': './data/lobel-frog-toad.pdf', 'page': 82}\n"
     ]
    }
   ],
   "source": [
    "pg_no=66\n",
    "print(f\"Content:\\n {pages[pg_no].page_content} \\n metadata:\\n {pages[pg_no].metadata}\")"
   ]
  },
  {
   "cell_type": "code",
   "execution_count": 3,
   "metadata": {},
   "outputs": [],
   "source": [
    "# import\n",
    "from langchain.embeddings.sentence_transformer import SentenceTransformerEmbeddings\n",
    "from langchain.vectorstores import Chroma # vector storage"
   ]
  },
  {
   "cell_type": "code",
   "execution_count": null,
   "metadata": {},
   "outputs": [],
   "source": [
    "# create the open-source embedding function\n",
    "embedding_function = SentenceTransformerEmbeddings(model_name=\"all-MiniLM-L6-v2\")\n",
    "\n",
    "# load it into Chroma\n",
    "db = Chroma.from_documents(pages, embedding_function)"
   ]
  },
  {
   "cell_type": "code",
   "execution_count": 5,
   "metadata": {},
   "outputs": [],
   "source": [
    "# retriever\n",
    "retriever = db.as_retriever()"
   ]
  },
  {
   "cell_type": "code",
   "execution_count": 8,
   "metadata": {},
   "outputs": [],
   "source": [
    "# Initialize OpenAI Model\n",
    "import os,configparser\n",
    "\n",
    "config = configparser.ConfigParser()\n",
    "config.read('secret.ini') \n",
    "''' secret.ini content is following\n",
    "[OpenAI]\n",
    "openai_api_key = your_Open_AI_key \n",
    "\n",
    "'''\n",
    "os.environ[\"OPENAI_API_KEY\"] = config['OpenAI']['openai_api_key'] # set open AI key as environment variable\n"
   ]
  },
  {
   "cell_type": "code",
   "execution_count": 11,
   "metadata": {},
   "outputs": [
    {
     "name": "stdout",
     "output_type": "stream",
     "text": [
      " Frog sent a letter to Toad to let him know that he is Frog's best friend.\n"
     ]
    }
   ],
   "source": [
    "from langchain.chains import RetrievalQA\n",
    "from langchain.llms import OpenAI\n",
    "\n",
    "llm_model_openai=OpenAI()\n",
    "qa_openAI = RetrievalQA.from_chain_type(llm=llm_model_openai, chain_type=\"stuff\", retriever=retriever)\n",
    "\n",
    "query = \"why front sent letter to Todd?\"\n",
    "print(qa_openAI.run(query))"
   ]
  },
  {
   "cell_type": "code",
   "execution_count": 9,
   "metadata": {},
   "outputs": [],
   "source": [
    "# change the model to vertex and query\n",
    "os.environ['GOOGLE_APPLICATION_CREDENTIALS']='participant-sa-12-ghc-022_git.json' ## service account json"
   ]
  },
  {
   "cell_type": "code",
   "execution_count": 12,
   "metadata": {},
   "outputs": [],
   "source": [
    "from langchain.llms import VertexAI\n",
    "ga_vertexAI = VertexAI()\n",
    "qa = RetrievalQA.from_chain_type(llm=ga_vertexAI, chain_type=\"stuff\", retriever=retriever)"
   ]
  },
  {
   "cell_type": "code",
   "execution_count": 14,
   "metadata": {},
   "outputs": [
    {
     "name": "stdout",
     "output_type": "stream",
     "text": [
      "Frog sent a letter to Toad because he wanted to tell him that he was his best friend.\n"
     ]
    }
   ],
   "source": [
    "print(qa.run(query))"
   ]
  }
 ],
 "metadata": {
  "kernelspec": {
   "display_name": "venv",
   "language": "python",
   "name": "python3"
  },
  "language_info": {
   "codemirror_mode": {
    "name": "ipython",
    "version": 3
   },
   "file_extension": ".py",
   "mimetype": "text/x-python",
   "name": "python",
   "nbconvert_exporter": "python",
   "pygments_lexer": "ipython3",
   "version": "3.11.4"
  },
  "orig_nbformat": 4
 },
 "nbformat": 4,
 "nbformat_minor": 2
}
